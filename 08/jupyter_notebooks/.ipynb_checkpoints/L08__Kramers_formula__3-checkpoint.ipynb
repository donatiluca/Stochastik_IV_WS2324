{
 "cells": [
  {
   "cell_type": "code",
   "execution_count": 1,
   "id": "1f845db6",
   "metadata": {},
   "outputs": [],
   "source": [
    "import matplotlib.pyplot as plt\n",
    "import numpy as np\n",
    "import sympy as sp\n",
    "from tqdm import tqdm\n",
    "\n",
    "\n",
    "font = {'size'   : 10}\n",
    "plt.rc('font', **font)\n",
    "in2cm = 1/2.54  # centimeters in inches"
   ]
  },
  {
   "cell_type": "code",
   "execution_count": 2,
   "id": "2b6a7c43",
   "metadata": {},
   "outputs": [
    {
     "name": "stdout",
     "output_type": "stream",
     "text": [
      "0.4009078317304838\n"
     ]
    }
   ],
   "source": [
    "# System parameters\n",
    "kB    = 0.008314463 # kJ mol-1 K\n",
    "T     = 300         # K\n",
    "mass  = 1           # amu\n",
    "beta  = 1 / kB / T\n",
    "print(beta)"
   ]
  },
  {
   "cell_type": "code",
   "execution_count": 3,
   "id": "f2dfde40",
   "metadata": {},
   "outputs": [],
   "source": [
    "# Initialize the variables x and y for symbolic calculation\n",
    "x   =  sp.symbols('x')\n",
    "\n",
    "# Define the potentials Va, Vb and V with sympy\n",
    "V   = ( x ** 2 - 1 ) ** 2\n",
    "\n",
    "# Calculate derivative and second derivative with sympy\n",
    "gradVx   =  V.diff(x)\n",
    "grad2Vx2 =  gradVx.diff(x)\n",
    "\n",
    "# To display sympy functions:\n",
    "# display(gradVx)\n",
    "\n",
    "# Convert potential and derivatives in numpy functions\n",
    "V         =  sp.lambdify((x), V, modules=['numpy'])\n",
    "gradVx    =  sp.lambdify((x), gradVx, modules=['numpy'])\n",
    "grad2Vx2  =  sp.lambdify((x), grad2Vx2, modules=['numpy'])"
   ]
  },
  {
   "cell_type": "code",
   "execution_count": 4,
   "id": "51d0d778",
   "metadata": {},
   "outputs": [
    {
     "name": "stdout",
     "output_type": "stream",
     "text": [
      "-0.9959919839679359\n",
      "0.9959919839679359\n",
      "-2.220446049250313e-16\n"
     ]
    }
   ],
   "source": [
    "# Grid\n",
    "xbins     = 500   \n",
    "xmin      = - 3.5\n",
    "xmax      = - xmin\n",
    "xedges    = np.linspace(xmin, xmax, xbins)  # array with x edges\n",
    "dx        = xedges[1] - xedges[0]\n",
    "xcenters  = xedges[:-1] + (dx / 2)                # array with x centers\n",
    "xbins     = xbins - 1\n",
    "\n",
    "iA        = np.argmin(V(xcenters[0:int(xbins/2)]))\n",
    "iC        = int(xbins/2) + np.argmin(V(xcenters[int(xbins/2):-1]))\n",
    "iB        = iA   + np.argmax(V(xcenters[iA:iC]))\n",
    "\n",
    "print(xcenters[iA])\n",
    "print(xcenters[iC])\n",
    "print(xcenters[iB])\n",
    "\n",
    "# Approximation at xA and xB\n",
    "xA        = xcenters[iA]\n",
    "omegaA    = np.sqrt( np.abs(grad2Vx2(xA)) / mass )\n",
    "kspringA  = omegaA ** 2 * mass\n",
    "\n",
    "xB        = xcenters[iB]\n",
    "omegaB    = np.sqrt( np.abs(grad2Vx2(xB)) / mass )\n",
    "kspringB  = omegaB ** 2 * mass\n",
    "\n",
    "xC        = xcenters[iC]\n",
    "omegaC    = np.sqrt( np.abs(grad2Vx2(xC)) / mass )\n",
    "kspringC  = omegaC ** 2 * mass\n",
    "\n",
    "# Energy barriers\n",
    "Eb_plus   = V(xB) - V(xA)\n",
    "Eb_minus  = V(xB) - V(xC)"
   ]
  },
  {
   "cell_type": "markdown",
   "id": "d08cf2bb",
   "metadata": {},
   "source": [
    "The next block defines the BBK integrator for Langevin dynamics."
   ]
  },
  {
   "cell_type": "code",
   "execution_count": 5,
   "id": "0f1e04a7",
   "metadata": {},
   "outputs": [],
   "source": [
    "def langevin_bbk_step(Q, P, M, gamma, beta, der_V, dt):\n",
    "    L = 1 / (1 + 0.5 * gamma*dt)\n",
    "    \n",
    "    # Deterministic force\n",
    "    F  =  - der_V(Q)\n",
    "    \n",
    "    # Random force \n",
    "    R  =  np.random.normal(0, 1, size = np.array(Q).shape)\n",
    "    \n",
    "    # update p_{n+1/2}\n",
    "    Phalf = ( 1 - 0.5 * gamma * dt ) * P + 0.5 * F * dt + 0.5 * np.sqrt( 2 / beta * dt * gamma * M ) * R\n",
    "    \n",
    "    # update q_{n+1}\n",
    "    Q  =  Q + Phalf / M * dt\n",
    "    \n",
    "    # Recalculate deterministic force (but not the random force)\n",
    "    F  =  - der_V(Q)\n",
    "    \n",
    "    # update p_{n+1}\n",
    "    P = ( Phalf + 0.5 * F * dt + 0.5 * np.sqrt( 2 / beta * dt * gamma * M ) * R ) / ( 1 + 0.5 * gamma * dt ) \n",
    "\n",
    "    return Q, P"
   ]
  },
  {
   "cell_type": "code",
   "execution_count": 6,
   "id": "781ac34d",
   "metadata": {},
   "outputs": [],
   "source": [
    "# Number of gamma values being test\n",
    "Ng     = 30 #25\n",
    "\n",
    "# Generate gamma values between 0.05 and 10\n",
    "# Use logspace to generate more points close to 0.05 than 10\n",
    "gammas =  np.logspace(np.log(0.01), np.log(25), Ng, base=np.exp(1))"
   ]
  },
  {
   "cell_type": "markdown",
   "id": "6f6455ef",
   "metadata": {},
   "source": [
    "### Numerical experiment"
   ]
  },
  {
   "cell_type": "code",
   "execution_count": 7,
   "id": "68140f57",
   "metadata": {},
   "outputs": [
    {
     "name": "stdout",
     "output_type": "stream",
     "text": [
      "Gamma:  0.010000000000000007\n",
      "Gamma:  0.013096955295775894\n",
      "Gamma:  0.017153023801955224\n",
      "Gamma:  0.02246523859215873\n",
      "Gamma:  0.029422622555044218\n",
      "Gamma:  0.03853467722879015\n",
      "Gamma:  0.05046869450026176\n",
      "Gamma:  0.06609862357060987\n",
      "Gamma:  0.08656907180165961\n",
      "Gamma:  0.11337912633831491\n",
      "Gamma:  0.14849213491270372\n",
      "Gamma:  0.1944794852726002\n",
      "Gamma:  0.254708912456075\n",
      "Gamma:  0.33359112398729096\n",
      "Gamma:  0.436902803792918\n",
      "Gamma:  0.5722096489874995\n",
      "Gamma:  0.7494204192600892\n",
      "Gamma:  0.9815125728791008\n",
      "Gamma:  1.2854826289239565\n",
      "Gamma:  1.6835908524513516\n",
      "Gamma:  2.2049914130932584\n",
      "Gamma:  2.8878673964852104\n",
      "Gamma:  3.7822270191895493\n",
      "Gamma:  4.953565818880125\n",
      "Gamma:  6.4876630084556455\n",
      "Gamma:  8.496863239580248\n",
      "Gamma:  11.128303800310405\n",
      "Gamma:  14.574689739047827\n",
      "Gamma:  19.08840599621129\n",
      "Gamma:  24.99999999999999\n"
     ]
    }
   ],
   "source": [
    "# Number of simulations\n",
    "Nreps = 500\n",
    "\n",
    "# Integrator timestep\n",
    "dt  =  0.005 # ps\n",
    "sdt =  np.sqrt(dt)\n",
    "\n",
    "# Array to store simulation time for each replica and each gamma value\n",
    "simTimes = np.zeros((Nreps,Ng))\n",
    "\n",
    "# For loop over gamma values\n",
    "for g, gamma in enumerate(gammas):\n",
    "    \n",
    "    print(\"Gamma: \", str(gamma))\n",
    "          \n",
    "    # Recalculate diffusion constant\n",
    "    D     = kB * T / mass / gamma # nm2 ps-1\n",
    "    sigma = np.sqrt(2 * D)\n",
    "\n",
    "    for r in range(Nreps):\n",
    "        \n",
    "        #print(\"Gamma: \", str(gamma), \"; Replica: \", str(r))\n",
    "        \n",
    "        # Initial position\n",
    "        x0  =  xA \n",
    "\n",
    "        # Final position\n",
    "        xF  =  xC\n",
    "        \n",
    "        # Initial momentum drawn from the Boltzmann distribution\n",
    "        p0  =  np.random.normal(0, 1) * np.sqrt( mass / beta )\n",
    "\n",
    "        # Initialize position and velocity\n",
    "        x   =   x0\n",
    "        v   =   p0 / mass\n",
    "        \n",
    "        t = 0\n",
    "        \n",
    "        # Start the simulation and stop if x > xC\n",
    "        while x < xF:\n",
    "            \n",
    "            # Update position and momentum\n",
    "            x, p = langevin_bbk_step(x, mass * v, mass, gamma, beta, gradVx, dt)\n",
    "            \n",
    "            # Calculate velocity\n",
    "            v    = p / mass\n",
    "            \n",
    "            # Update simulation time\n",
    "            t    = t + 1\n",
    "        \n",
    "        # Store simulation time to go from xA to xB\n",
    "        simTimes[r,g] = t * dt\n",
    "            \n",
    "    \n",
    "# MFPT from experiment\n",
    "MFPT = np.mean(simTimes, axis=0)\n",
    "\n",
    "# Rate from experiment\n",
    "expRate = 1 / MFPT    "
   ]
  },
  {
   "cell_type": "markdown",
   "id": "3deae671-b8da-4363-9c7b-068a4bff253a",
   "metadata": {},
   "source": [
    "## Pontryagin formula"
   ]
  },
  {
   "cell_type": "code",
   "execution_count": 8,
   "id": "c925d363-cd7b-4533-8d92-e91bc897feec",
   "metadata": {},
   "outputs": [],
   "source": [
    "def pontryagin_mfpt( gamma, beta, V, x0, xF, xcenters ):\n",
    "\n",
    "    D = 1 / beta / mass / gamma\n",
    "    \n",
    "    i0 = np.argmin(np.abs(xcenters - x0)) + 1\n",
    "    xcenters0 = xcenters[0:i0]\n",
    "    \n",
    "    iF = np.argmin(np.abs(xcenters - xF)) + 1\n",
    "    xcentersF = xcenters[0:iF]\n",
    "    \n",
    "    nn = iF - i0\n",
    "    innerInt = np.zeros(nn+1)\n",
    "    \n",
    "    for i in range(nn):\n",
    "        x = xcenters[0:iA+i+1]\n",
    "        innerInt[i+1] = np.sum(dx * np.exp( - beta * V(x) ) )\n",
    "\n",
    "    x        = xcenters[iA:iA+i+2]\n",
    "    outerInt = sum( dx * np.exp(beta * V(x)) * innerInt )\n",
    "\n",
    "    mfpt = outerInt / D\n",
    "\n",
    "    return mfpt\n",
    "\n",
    "\n",
    "def kramersRateModerateFriction(gamma):\n",
    "     return gamma / omegaB * ( np.sqrt(0.25 + omegaB ** 2 / gamma ** 2 ) - 0.5 ) * omegaA / 2 / np.pi * \\\n",
    "        np.exp( - beta * ( Eb_plus ))\n",
    "    \n",
    "def kramersRateHighFriction(gamma):\n",
    "     return  omegaA * omegaB / 2 / np.pi / gamma * \\\n",
    "        np.exp( - beta * ( Eb_plus ))\n",
    "\n",
    "\n",
    "pontryagin   = np.zeros(Ng)\n",
    "kramers_mod  = np.zeros(Ng)\n",
    "kramers_high = np.zeros(Ng)\n",
    "\n",
    "\n",
    "for g, gamma in enumerate(gammas):\n",
    "    pontryagin[g]   = 1 / pontryagin_mfpt( gamma, beta, V, x0, xF, xcenters )\n",
    "    kramers_mod[g]  = kramersRateModerateFriction( gamma )\n",
    "    kramers_high[g] = kramersRateHighFriction( gamma )"
   ]
  },
  {
   "cell_type": "code",
   "execution_count": 12,
   "id": "22623f67-8259-477e-9cec-3b096357ef13",
   "metadata": {},
   "outputs": [
    {
     "data": {
      "image/png": "[encoded data removed]",
      "text/plain": [
       "<Figure size 944.882x314.961 with 2 Axes>"
      ]
     },
     "metadata": {},
     "output_type": "display_data"
    }
   ],
   "source": [
    "fig, (ax1, ax2) = plt.subplots(1, 2, figsize=(24*in2cm, 8*in2cm), facecolor='white')  \n",
    "\n",
    "ax1.plot(xcenters, V(xcenters), 'k', label = 'Potential') \n",
    "#ax1.plot(xcenters,   0.5 * kspringA * (xcenters - xA) ** 2 + V(xA), 'k--', linewidth = 0.5, label = 'Harmonic approximation') \n",
    "ax1.plot(xA, V(xA), 'go', label = 'Reactant') \n",
    "\n",
    "#ax1.plot(xcenters, - 0.5 * kspringB * (xcenters - xB) ** 2 + V(xB), 'k--', linewidth = 0.5)\n",
    "ax1.plot(xB, V(xB), 'ro', label = 'Barrier') \n",
    "\n",
    "#ax1.plot(xcenters,   0.5 * kspringC * (xcenters - xC) ** 2 + V(xC), 'k--', linewidth = 0.5 ) \n",
    "ax1.plot(xC, V(xC), 'bo' , label = 'Product') \n",
    "\n",
    "ax1.set_title('Potential')\n",
    "ax1.set_xlabel(r'$x$')\n",
    "ax1.set_ylabel(r'$V(x)$')\n",
    "ax1.legend()\n",
    "ax1.set_ylim((-0, 2.5))\n",
    "ax1.set_xlim((xmin, xmax))\n",
    "\n",
    "\n",
    "ax2.plot(gammas, expRate, 'ro', label = 'Numerics') \n",
    "#ax1.plot(xcenters,   0.5 * kspringA * (xcenters - xA) ** 2 + V(xA), 'k--', linewidth = 0.5, label = 'Harmonic approximation') \n",
    "ax2.plot(gammas, pontryagin, 'k--', label = 'Pontryagin') \n",
    "ax2.plot(gammas, kramers_mod, 'b--', label = 'Kramers') \n",
    "#ax2.plot(gammas, kramers_high, 'g--', label = 'Kramers high') \n",
    "\n",
    "ax2.set_title('Rates')\n",
    "ax2.set_xlabel(r'$\\gamma$ / ps $^{-1}$')\n",
    "ax2.set_ylabel(r'$k$ / ps$^{-1}$')\n",
    "ax2.legend()\n",
    "ax2.set_xlim((0, gammas[-1]))\n",
    "ax2.set_ylim((0, 0.3))\n",
    "\n",
    "plt.subplots_adjust(left=0, bottom=0, right=1, top=1, wspace=0.2, hspace=0.4);\n",
    "\n",
    "#fig.savefig('figures/potential.png', format='png', dpi=900, bbox_inches='tight')"
   ]
  }
 ],
 "metadata": {
  "kernelspec": {
   "display_name": "Python 3 (ipykernel)",
   "language": "python",
   "name": "python3"
  },
  "language_info": {
   "codemirror_mode": {
    "name": "ipython",
    "version": 3
   },
   "file_extension": ".py",
   "mimetype": "text/x-python",
   "name": "python",
   "nbconvert_exporter": "python",
   "pygments_lexer": "ipython3",
   "version": "3.9.13"
  }
 },
 "nbformat": 4,
 "nbformat_minor": 5
}
